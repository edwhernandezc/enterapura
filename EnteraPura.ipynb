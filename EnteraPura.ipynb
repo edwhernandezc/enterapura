{
  "nbformat": 4,
  "nbformat_minor": 0,
  "metadata": {
    "colab": {
      "name": "EnteraPura.ipynb",
      "provenance": [],
      "collapsed_sections": []
    },
    "kernelspec": {
      "name": "python3",
      "display_name": "Python 3"
    }
  },
  "cells": [
    {
      "cell_type": "code",
      "metadata": {
        "id": "xuXd1EvLCKfC",
        "colab_type": "code",
        "colab": {
          "base_uri": "https://localhost:8080/",
          "height": 156
        },
        "outputId": "b4ac36f2-13d3-4822-a8cf-19bcf960e1eb"
      },
      "source": [
        "#Problema paso a paso\n",
        "from cvxopt import glpk\n",
        "from cvxopt.base import matrix as m\n",
        " \n",
        "c = m([-100.,-60.,-70.,-15.,-15.]) #Matriz con los valores de la funcion objetivo\n",
        "A = m([[2.], [23.], [21.],[15.],[7.]]) #Valores de las variables de las restricciones\n",
        "b = m([60.]) #Valores independientes de las restricciones\n",
        "\n",
        "intVars = range(5) #Especificamos que las 7 variables son enteras\n",
        "binVars = range(5) #Especificamos que las 7 variables son binarias\n",
        "\n",
        "sol = glpk.ilp(c, A, b, I=set(intVars), B=set(binVars))\n",
        "print('Los valores óptimos de las variables son:\\n{0}'.format(sol[1]))  #Si se encuantra valores optimos se muestran\n",
        "if sol[0]=='optimal':\n",
        " \n",
        "    print('El valor óptimo es:  {0} '.format((-c.T*sol[1])[0]))\n",
        "# El valor óptimo debemos transponerlo y cambiarle el signo, estamos maximizando.\n",
        " \n",
        "else:\n",
        " \n",
        "    print('El problema no devolvió una solución óptima. El estado del solucionador fue {0}'.format(sol[0]))  #Si no encuentra dice que no se encontro"
      ],
      "execution_count": null,
      "outputs": [
        {
          "output_type": "stream",
          "text": [
            "Los valores óptimos de las variables son:\n",
            "[ 1.00e+00]\n",
            "[ 1.00e+00]\n",
            "[ 1.00e+00]\n",
            "[ 0.00e+00]\n",
            "[ 1.00e+00]\n",
            "\n",
            "El valor óptimo es:  245.0 \n"
          ],
          "name": "stdout"
        }
      ]
    },
    {
      "cell_type": "code",
      "metadata": {
        "id": "4i3lgRkkhAK4",
        "colab_type": "code",
        "colab": {
          "base_uri": "https://localhost:8080/",
          "height": 121
        },
        "outputId": "601fcd79-053b-498d-fc1b-9d295e720be3"
      },
      "source": [
        "#Problema Quemo Chemical Company \n",
        "from cvxopt import glpk\n",
        "from cvxopt.base import matrix as m\n",
        " \n",
        "c = m([-25000., -18000., -31000.]) #Matriz con los valores de la funcion objetivo\n",
        "A = m([[8000., 7000.], [6000., 4000.], [12000., 8000.]]) #Valores de las variables de las restricciones\n",
        "b = m([20000., 16000.]) #Valores independientes de las restricciones\n",
        "\n",
        "intVars = range(3) #Especificamos que las 3 variables son enteras\n",
        "binVars = range(3) #Especificamos que las 3 variables son binarias\n",
        "\n",
        "sol = glpk.ilp(c, A, b, I=set(intVars), B=set(binVars))\n",
        "print('Los valores óptimos de las variables son:\\n{0}'.format(sol[1]))  #Si se encuantra valores optimos se muestran\n",
        "if sol[0]=='optimal':\n",
        " \n",
        "    print('El valor óptimo es:  {0}'.format((-c.T*sol[1])[0]))\n",
        "# El valor óptimo debemos transponerlo y cambiarle el signo, estamos maximizando.\n",
        " \n",
        "else:\n",
        " \n",
        "    print('El problema no devolvió una solución óptima. El estado del solucionador fue {0}'.format(sol[0]))  #Si no encuentra dice que no se encontro"
      ],
      "execution_count": null,
      "outputs": [
        {
          "output_type": "stream",
          "text": [
            "Los valores óptimos de las variables son:\n",
            "[ 1.00e+00]\n",
            "[ 0.00e+00]\n",
            "[ 1.00e+00]\n",
            "\n",
            "El valor óptimo es:  56000.0\n"
          ],
          "name": "stdout"
        }
      ]
    },
    {
      "cell_type": "code",
      "metadata": {
        "id": "-bMJxrVN30UB",
        "colab_type": "code",
        "colab": {
          "base_uri": "https://localhost:8080/",
          "height": 122
        },
        "outputId": "8dc2de97-aec6-4292-975b-402a78828df1"
      },
      "source": [
        "#Problema Proyectos a invertir\n",
        "from cvxopt import glpk\n",
        "from cvxopt.base import matrix as m\n",
        " \n",
        "c = m([-46356337., -37927912.,-4214212.]) #Matriz con los valores de la funcion objetivo\n",
        "A = m([[42134625.], [25280775.], [16853850.]]) #Valores de las variables de las restricciones\n",
        "b = m([42134625.]) #Valores independientes de las restricciones\n",
        "\n",
        "intVars = range(3) #Especificamos que las 3 variables son enteras\n",
        "binVars = range(3) #Especificamos que las 3 variables son binarias\n",
        "\n",
        "sol = glpk.ilp(c, A, b, I=set(intVars), B=set(binVars))\n",
        "print('Los valores óptimos de las variables son:\\n{0}'.format(sol[1]))  #Si se encuantra valores optimos se muestran\n",
        "if sol[0]=='optimal':\n",
        " \n",
        "    print('El valor óptimo es:  ${0} COP'.format((-c.T*sol[1])[0]))\n",
        "# El valor óptimo debemos transponerlo y cambiarle el signo, estamos maximizando.\n",
        " \n",
        "else:\n",
        " \n",
        "    print('El problema no devolvió una solución óptima. El estado del solucionador fue {0}'.format(sol[0])) #Si no encuentra dice que no se encontro"
      ],
      "execution_count": null,
      "outputs": [
        {
          "output_type": "stream",
          "text": [
            "Los valores óptimos de las variables son:\n",
            "[ 1.00e+00]\n",
            "[ 0.00e+00]\n",
            "[ 0.00e+00]\n",
            "\n",
            "El valor óptimo es:  $46356337.0 COP\n"
          ],
          "name": "stdout"
        }
      ]
    },
    {
      "cell_type": "code",
      "metadata": {
        "id": "k4O-UXxRv0cI",
        "colab_type": "code",
        "colab": {
          "base_uri": "https://localhost:8080/",
          "height": 139
        },
        "outputId": "9d26c232-9ba5-4271-dc47-9d8739ff1341"
      },
      "source": [
        "from cvxopt import glpk\n",
        "from cvxopt.base import matrix as m\n",
        " \n",
        "c = m([-3., -2., 5., 2., -3.]) #Matriz con los valores de la funcion objetivo\n",
        "A = m([[1., 7., -11.], [1., 0., 6.], [1., 3., 0.], [2., -4., -3.], [1., 3., 3.]]) #Valores de las variables de las restricciones\n",
        "b = m([4., 8., -3.]) #Valores independientes de las restricciones\n",
        "\n",
        "intVars = range(5) #Especificamos que las 5 variables son enteras\n",
        "binVars = range(5) #Especificamos que las 5 variables son binarias\n",
        "\n",
        "sol = glpk.ilp(c, A, b, I=set(intVars), B=set(binVars))\n",
        "print('Los valores óptimos de las variables son: {0}'.format(sol[1])) #Si se encuantra valores optimos se muestran\n",
        "if sol[0]=='optimal':\n",
        "  print('El valor óptimo es {0}'.format((-c.T*sol[1])[0]))\n",
        "# El valor óptimo debemos transponerlo y cambiarle el signo, estamos maximizando.\n",
        " \n",
        "else:\n",
        " \n",
        "  print('El problema no devolvió una solución óptima. El estado del solucionador fue {0}'.format(sol[0]))  #Si no encuentra dice que no se encontro\n"
      ],
      "execution_count": null,
      "outputs": [
        {
          "output_type": "stream",
          "text": [
            "Los valores óptimos de las variables son: [ 1.00e+00]\n",
            "[ 1.00e+00]\n",
            "[ 0.00e+00]\n",
            "[ 0.00e+00]\n",
            "[ 0.00e+00]\n",
            "\n",
            "El valor óptimo es 5.0\n"
          ],
          "name": "stdout"
        }
      ]
    },
    {
      "cell_type": "code",
      "metadata": {
        "id": "dpO1tck5q0FB",
        "colab_type": "code",
        "colab": {
          "base_uri": "https://localhost:8080/",
          "height": 187
        },
        "outputId": "391e8249-ba11-400c-ee47-64959e607159"
      },
      "source": [
        "#Problema Propuesto \"Municipalidad\"\n",
        "from cvxopt import glpk\n",
        "from cvxopt.base import matrix as m\n",
        " \n",
        "c = m([-842628., -421314.,-631971.,-1263943.,-1078564.,-1137548.,-758365.]) #Matriz con los valores de la funcion objetivo\n",
        "A = m([[1., 1.,1.,0.,0.,0.,1.], [0., 1.,0.,1.,0.,0.,0.], [0., 0.,1.,0.,1.,0.,0.],[0.,0.,0.,1.,1.,1.,0.]\n",
        "       ,[1., 1., 1., 1., 0., 1., 1.], [0., 0., 0., 0., 1., 1., 1.], [1., 1., 0., 0., 0., 0., 1.]])       #Valores de las variables de las restricciones\n",
        "b = m([1., 1.,1.,1.,1.,1,1.]) #Valores independientes de las restricciones\n",
        "\n",
        "intVars = range(7) #Especificamos que las 7 variables son enteras\n",
        "binVars = range(7) #Especificamos que las 7 variables son binarias\n",
        "\n",
        "sol = glpk.ilp(c, A, b, I=set(intVars), B=set(binVars))\n",
        "print('Los valores óptimos de las variables son:\\n{0}'.format(sol[1]))  #Si se encuantra valores optimos se muestran\n",
        "if sol[0]=='optimal':\n",
        " \n",
        "    print('El valor óptimo es:  ${0} COP'.format((-c.T*sol[1])[0]))\n",
        "# El valor óptimo debemos transponerlo y cambiarle el signo, estamos maximizando.\n",
        " \n",
        "else:\n",
        " \n",
        "    print('El problema no devolvió una solución óptima. El estado del solucionador fue {0}'.format(sol[0]))  #Si no encuentra dice que no se encontro"
      ],
      "execution_count": null,
      "outputs": [
        {
          "output_type": "stream",
          "text": [
            "Los valores óptimos de las variables son:\n",
            "[ 1.00e+00]\n",
            "[ 0.00e+00]\n",
            "[ 0.00e+00]\n",
            "[ 1.00e+00]\n",
            "[ 0.00e+00]\n",
            "[ 0.00e+00]\n",
            "[ 0.00e+00]\n",
            "\n",
            "El valor óptimo es:  $2106571.0 COP\n"
          ],
          "name": "stdout"
        }
      ]
    }
  ]
}